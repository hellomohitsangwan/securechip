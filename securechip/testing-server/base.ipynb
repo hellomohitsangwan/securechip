{
 "cells": [
  {
   "cell_type": "code",
   "execution_count": 1,
   "metadata": {},
   "outputs": [],
   "source": [
    "import torch\n",
    "import torchvision\n",
    "import torch.nn as nn\n",
    "import numpy as np\n",
    "import matplotlib.pyplot as plt\n",
    "from torch.utils.data import Dataset, DataLoader\n",
    "import torch.nn.functional as F\n",
    "from torchvision import transforms\n",
    "import os\n",
    "import glob\n",
    "import shutil\n",
    "from sklearn.metrics import accuracy_score, confusion_matrix"
   ]
  },
  {
   "cell_type": "code",
   "execution_count": 2,
   "metadata": {},
   "outputs": [
    {
     "data": {
      "text/plain": [
       "[]"
      ]
     },
     "execution_count": 2,
     "metadata": {},
     "output_type": "execute_result"
    }
   ],
   "source": [
    "DB_PATH = \"./dbNudeDetection/\"\n",
    "\n",
    "if not(os.path.isdir(DB_PATH+\"nude\")):\n",
    "    os.mkdir(DB_PATH+\"nude\")\n",
    "if not(os.path.isdir(DB_PATH+\"non_nude\")):\n",
    "    os.mkdir(DB_PATH+\"non_nude\")\n",
    "\n",
    "files = glob.glob(DB_PATH+\"/*.jpg\")\n",
    "if len(files):\n",
    "    for i in range(len(files)):\n",
    "        files[i] = files[i][len(\"./dbNudeDetection\\\\\"):]\n",
    "        if files[i][:4] == \"nude\":\n",
    "            shutil.move(DB_PATH+files[i], DB_PATH+\"/nude/\"+files[i])\n",
    "        else:\n",
    "            shutil.move(DB_PATH+files[i], DB_PATH+\"/non_nude/\"+files[i])\n",
    "    \n",
    "files\n",
    "\n",
    "# if len(files)!=0:\n",
    "#     for i in files:"
   ]
  },
  {
   "cell_type": "code",
   "execution_count": 3,
   "metadata": {},
   "outputs": [],
   "source": [
    "# transformations = transforms.Compose([transforms.Resize((224,224)),\n",
    "#                                     transforms.RandomRotation(50),\n",
    "#                                     transforms.RandomHorizontalFlip(),\n",
    "#                                     transforms.CenterCrop(200),\n",
    "#                                     transforms.Grayscale(),\n",
    "#                                     transforms.ToTensor(), \n",
    "#                                     transforms.Normalize((0.5,), (0.5,))])\n",
    "\n",
    "train_transform = transforms.Compose([transforms.Resize(255),transforms.RandomResizedCrop(224),\n",
    "                                transforms.CenterCrop(224),\n",
    "                                transforms.RandomHorizontalFlip(),\n",
    "                                transforms.ColorJitter(),\n",
    "                                transforms.ToTensor()])\n",
    "test_transform = transforms.Compose([\n",
    "                                transforms.Resize(255),\n",
    "                                transforms.CenterCrop(224),\n",
    "                                transforms.ToTensor()])"
   ]
  },
  {
   "cell_type": "code",
   "execution_count": 4,
   "metadata": {},
   "outputs": [],
   "source": [
    "train_data = torchvision.datasets.ImageFolder(r\"dbNudeDetection\\train\", transform=train_transform)\n",
    "test_data = torchvision.datasets.ImageFolder(r\"dbNudeDetection\\val\", transform=test_transform)\n",
    "\n",
    "train_loader = torch.utils.data.DataLoader(train_data, batch_size=16,shuffle=True)\n",
    "test_loader = torch.utils.data.DataLoader(test_data, batch_size=16)"
   ]
  },
  {
   "cell_type": "code",
   "execution_count": 5,
   "metadata": {},
   "outputs": [],
   "source": [
    "class Binary_Classifier(nn.Module): \n",
    "    def __init__(self):\n",
    "        super().__init__()\n",
    "        self.conv1 = nn.Conv2d(in_channels=3, out_channels=10, kernel_size=3)\n",
    "        self.conv2 = nn.Conv2d(10, 20, kernel_size=3)\n",
    "        self.conv2_drop = nn.Dropout2d()\n",
    "        self.fc1 = nn.Linear(58320, 1024)\n",
    "        self.fc2 = nn.Linear(1024, 2)\n",
    "        self.sigmoid = nn.Sigmoid()\n",
    "\n",
    "    def forward(self, x):\n",
    "        x = F.relu(F.max_pool2d(self.conv1(x), 2))\n",
    "        x = F.relu(F.max_pool2d(self.conv2_drop(self.conv2(x)), 2))\n",
    "        x = x.view(x.shape[0],-1)\n",
    "        x = F.relu(self.fc1(x))\n",
    "        x = F.dropout(x, training=self.training)\n",
    "        x = self.fc2(x)\n",
    "        x = self.sigmoid(x)\n",
    "        return x\n",
    "\n",
    "model=Binary_Classifier()\n",
    "criterion = nn.CrossEntropyLoss()\n",
    "optimizer = torch.optim.Adam(model.parameters())"
   ]
  },
  {
   "cell_type": "code",
   "execution_count": 16,
   "metadata": {},
   "outputs": [
    {
     "name": "stderr",
     "output_type": "stream",
     "text": [
      "100%|██████████| 15/15 [01:18<00:00,  5.25s/it]\n"
     ]
    }
   ],
   "source": [
    "train_losses = []\n",
    "from tqdm import tqdm\n",
    "for epoch in tqdm(range(1,16)):\n",
    "    train_loss = 0.0\n",
    "    model.train()\n",
    "    for data, target in train_loader:\n",
    "        optimizer.zero_grad()\n",
    "        output = model(data)\n",
    "        loss = criterion(output, target)\n",
    "        #backward-pass\n",
    "        loss.backward()\n",
    "        # Update the parameters\n",
    "        optimizer.step()\n",
    "        # Update the Training loss\n",
    "        train_loss += loss.item() * data.size(0)\n",
    "    train_losses.append(train_loss)"
   ]
  },
  {
   "cell_type": "code",
   "execution_count": 17,
   "metadata": {},
   "outputs": [
    {
     "data": {
      "text/plain": [
       "[<matplotlib.lines.Line2D at 0x2045be4d790>]"
      ]
     },
     "execution_count": 17,
     "metadata": {},
     "output_type": "execute_result"
    },
    {
     "data": {
      "image/png": "[encoded data removed]",
      "text/plain": [
       "<Figure size 432x288 with 1 Axes>"
      ]
     },
     "metadata": {
      "needs_background": "light"
     },
     "output_type": "display_data"
    }
   ],
   "source": [
    "plt.plot(range(15),train_losses)"
   ]
  },
  {
   "cell_type": "code",
   "execution_count": 18,
   "metadata": {},
   "outputs": [],
   "source": [
    "torch.save(model, \"Model1.h5\")"
   ]
  },
  {
   "cell_type": "code",
   "execution_count": 19,
   "metadata": {},
   "outputs": [
    {
     "data": {
      "text/plain": [
       "Binary_Classifier(\n",
       "  (conv1): Conv2d(3, 10, kernel_size=(3, 3), stride=(1, 1))\n",
       "  (conv2): Conv2d(10, 20, kernel_size=(3, 3), stride=(1, 1))\n",
       "  (conv2_drop): Dropout2d(p=0.5, inplace=False)\n",
       "  (fc1): Linear(in_features=58320, out_features=1024, bias=True)\n",
       "  (fc2): Linear(in_features=1024, out_features=2, bias=True)\n",
       "  (sigmoid): Sigmoid()\n",
       ")"
      ]
     },
     "execution_count": 19,
     "metadata": {},
     "output_type": "execute_result"
    }
   ],
   "source": [
    "model = torch.load('Model1.h5')\n",
    "model.eval()"
   ]
  },
  {
   "cell_type": "code",
   "execution_count": 20,
   "metadata": {},
   "outputs": [
    {
     "data": {
      "text/plain": [
       "'non nude'"
      ]
     },
     "execution_count": 20,
     "metadata": {},
     "output_type": "execute_result"
    }
   ],
   "source": [
    "from PIL import Image\n",
    "classes = [\"non nude\",\"nude\"]\n",
    "def pre_image(image_path,model):\n",
    "   img = Image.open(image_path)\n",
    "   mean = [0.485, 0.456, 0.406] \n",
    "   std = [0.229, 0.224, 0.225]\n",
    "   transform_norm = transforms.Compose([transforms.Resize(255),\n",
    "   transforms.CenterCrop(224),\n",
    "   transforms.ToTensor()\n",
    "   ])\n",
    "   # get normalized image\n",
    "   img_normalized = transform_norm(img).float()\n",
    "   img_normalized = img_normalized.unsqueeze_(0)\n",
    "   with torch.no_grad():\n",
    "      model.eval()  \n",
    "      output =model(img_normalized)\n",
    "     # print(output)\n",
    "      index = output.data.cpu().numpy().argmax()\n",
    "      class_name = classes[index]\n",
    "      return class_name\n",
    "\n",
    "pre_image(r\"0aeSdIV.jpg\",model)"
   ]
  },
  {
   "cell_type": "code",
   "execution_count": 11,
   "metadata": {},
   "outputs": [],
   "source": [
    "# model.eval()\n",
    "# # iterate over test data\n",
    "# len(test_loader)\n",
    "# for data, target in test_loader:\n",
    "#     # move tensors to GPU if CUDA is available\n",
    "#     if train_on_gpu:\n",
    "#         data, target = data.cuda(), target.cuda()\n",
    "#     # forward pass\n",
    "#     output = model(data)\n",
    "#     # calculate the batch loss\n",
    "#     loss = criterion(output, target)\n",
    "#     # update test loss \n",
    "#     test_loss += loss.item()*data.size(0)\n",
    "#     # convert output probabilities to predicted class\n",
    "#     _, pred = torch.max(output, 1)    \n",
    "#     # compare predictions to true label\n",
    "#     correct_tensor = pred.eq(target.data.view_as(pred))\n",
    "#     correct = np.squeeze(correct_tensor.numpy()) if not train_on_gpu else np.squeeze(correct_tensor.cpu().numpy())\n",
    "#     # calculate test accuracy for each object class\n",
    "#     for i in range(batch_size):       \n",
    "#         label = target.data[i]\n",
    "#         class_correct[label] += correct[i].item()\n",
    "#         class_total[label] += 1\n",
    "# # average test loss\n",
    "# test_loss = test_loss/len(test_loader.dataset)\n",
    "# print('Test Loss: {:.6f}\\n'.format(test_loss))\n",
    "# for i in range(2):\n",
    "#     if class_total[i] > 0:\n",
    "#         print('Test Accuracy of %5s: %2d%% (%2d/%2d)' % (\n",
    "#             classes[i], 100 * class_correct[i] / class_total[i],\n",
    "#             np.sum(class_correct[i]), np.sum(class_total[i])))\n",
    "#     else:\n",
    "#         print('Test Accuracy of %5s: N/A (no training examples)' % (classes[i]))\n",
    "# print('\\nTest Accuracy (Overall): %2d%% (%2d/%2d)' % (\n",
    "#     100. * np.sum(class_correct) / np.sum(class_total),\n",
    "#     np.sum(class_correct), np.sum(class_total)))"
   ]
  },
  {
   "cell_type": "code",
   "execution_count": 12,
   "metadata": {},
   "outputs": [],
   "source": [
    "# CLASSES = [\"Nude\", \"Non-Nude\"]\n",
    "# NUM_CLASSES = len(CLASSES)\n",
    "\n",
    "# class ImageMulticlassClassificationNet(nn.Module):\n",
    "#     def __init__(self) -> None:\n",
    "#         super().__init__()\n",
    "#         self.conv1 = nn.Conv2d(1, 6, 3)  \n",
    "#         self.pool = nn.MaxPool2d(2, 2)  \n",
    "#         self.conv2 = nn.Conv2d(6, 16, 3) \n",
    "#         self.flatten = nn.Flatten()\n",
    "#         self.fc1 = nn.Linear(16 * 11 * 11, 128) # out: (BS, 128)\n",
    "#         self.fc2 = nn.Linear(128, 64)\n",
    "#         self.fc3 = nn.Linear(64, NUM_CLASSES)\n",
    "#         self.relu = nn.ReLU()\n",
    "#         self.softmax = nn.LogSoftmax()\n",
    "    \n",
    "#     def forward(self, x):\n",
    "#         x = self.conv1(x) # out: (BS, 6, 48, 48)\n",
    "#         x = self.relu(x)\n",
    "#         x = self.pool(x) # out: (BS, 6, 24, 24)\n",
    "#         x = self.conv2(x) # out: (BS, 16, 22, 22)\n",
    "#         x = self.relu(x)\n",
    "#         x = self.pool(x) # out: (BS, 16, 11, 11)\n",
    "#         x = self.flatten(x)\n",
    "#         x = self.fc1(x)\n",
    "#         x = self.relu(x)\n",
    "#         x = self.fc2(x)\n",
    "#         x = self.relu(x)\n",
    "#         x = self.fc3(x)\n",
    "#         x = self.softmax(x)\n",
    "#         return x\n",
    "\n",
    "# class ImageClassificationNet(nn.Module):\n",
    "#     def __init__(self) -> None:\n",
    "#         super().__init__()\n",
    "#         self.conv1 = nn.Conv2d(1, 6, 3)\n",
    "#         self.pool = nn.MaxPool2d(2, 2)\n",
    "#         self.conv2 = nn.Conv2d(6, 16, 3)\n",
    "#         self.fc1 = nn.Linear(16 * 6 * 6, 128)\n",
    "#         self.fc2 = nn.Linear(128, 64)\n",
    "#         self.fc3 = nn.Linear(64, 1)\n",
    "#         self.relu = nn.ReLU()\n",
    "#         self.sigmoid = nn.Sigmoid()\n",
    "    \n",
    "#     def forward(self, x):\n",
    "#         x = self.conv1(x)\n",
    "#         x = self.relu(x)\n",
    "#         x = self.pool(x)\n",
    "#         x = self.conv2(x)\n",
    "#         x = self.relu(x)\n",
    "#         x = self.pool(x)\n",
    "#         x = torch.flatten(x, 1)\n",
    "#         x = self.fc1(x)\n",
    "#         x = self.relu(x)\n",
    "#         x = self.fc2(x)\n",
    "#         x = self.relu(x)\n",
    "#         x = self.fc3(x)\n",
    "#         x = self.sigmoid(x)\n",
    "#         return x\n",
    "    \n",
    "    "
   ]
  },
  {
   "cell_type": "code",
   "execution_count": 13,
   "metadata": {},
   "outputs": [],
   "source": [
    "# model = ImageClassificationNet()      \n",
    "# loss_fn = nn.BCELoss()\n",
    "# optimizer = torch.optim.SGD(model.parameters(), lr=0.001, momentum=0.8)\n",
    "# NUM_EPOCHS = 10\n",
    "# for epoch in range(NUM_EPOCHS):\n",
    "#     for i, data in enumerate(trainloader, 0):\n",
    "#         inputs, labels = data\n",
    "#         optimizer.zero_grad()\n",
    "#         outputs = model(inputs)\n",
    "        \n",
    "#         loss = loss_fn(outputs, labels.reshape(-1, 1).float())\n",
    "#         loss.backward()\n",
    "#         optimizer.step()\n",
    "#         if i % 100 == 0:\n",
    "#             print(f'Epoch {epoch}/{NUM_EPOCHS}, Step {i+1}/{len(trainloader)},'\n",
    "#                   f'Loss: {loss.item():.4f}')"
   ]
  },
  {
   "cell_type": "code",
   "execution_count": 14,
   "metadata": {},
   "outputs": [],
   "source": [
    "# y_test = []\n",
    "# y_test_hat = []\n",
    "# for i, data in enumerate(testloader, 0):\n",
    "#     inputs, y_test_temp = data\n",
    "#     with torch.no_grad():\n",
    "#         y_test_hat_temp = model(inputs).round()\n",
    "    \n",
    "#     y_test.extend(y_test_temp.numpy())\n",
    "#     y_test_hat.extend(y_test_hat_temp.numpy())\n",
    "\n",
    "# # %%\n",
    "# acc = accuracy_score(y_test, np.argmax(y_test_hat, axis=1))\n",
    "# print(f'Accuracy: {acc*100:.2f} %')\n",
    "# # %% confusion matrix\n",
    "# confusion_matrix(y_test, np.argmax(y_test_hat, axis=1))\n",
    "# # %%"
   ]
  }
 ],
 "metadata": {
  "kernelspec": {
   "display_name": "Python 3",
   "language": "python",
   "name": "python3"
  },
  "language_info": {
   "codemirror_mode": {
    "name": "ipython",
    "version": 3
   },
   "file_extension": ".py",
   "mimetype": "text/x-python",
   "name": "python",
   "nbconvert_exporter": "python",
   "pygments_lexer": "ipython3",
   "version": "3.9.10"
  },
  "orig_nbformat": 4
 },
 "nbformat": 4,
 "nbformat_minor": 2
}
